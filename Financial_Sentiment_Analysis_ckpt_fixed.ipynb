{
 "cells": [
  {
   "cell_type": "markdown",
   "metadata": {},
   "source": [
    "# Step 1. EDA"
   ]
  },
  {
   "cell_type": "code",
   "execution_count": 1,
   "metadata": {},
   "outputs": [
    {
     "name": "stderr",
     "output_type": "stream",
     "text": [
      "c:\\Users\\kurom\\anaconda3\\envs\\dl-venv\\lib\\site-packages\\tqdm\\auto.py:21: TqdmWarning: IProgress not found. Please update jupyter and ipywidgets. See https://ipywidgets.readthedocs.io/en/stable/user_install.html\n",
      "  from .autonotebook import tqdm as notebook_tqdm\n"
     ]
    }
   ],
   "source": [
    "#Import dataset\n",
    "import pandas as pd\n",
    "import numpy as np\n",
    "import matplotlib.pyplot as plt\n",
    "\n",
    "from datasets import load_dataset"
   ]
  },
  {
   "cell_type": "code",
   "execution_count": 2,
   "metadata": {},
   "outputs": [],
   "source": [
    "financial_news = pd.read_csv('all-data.csv', encoding='latin', header=None) #read csv set header to none because columns have no title\n",
    "financial_news.rename(columns={0: 'label', 1:'news'}, inplace=True) #rename columns"
   ]
  },
  {
   "cell_type": "code",
   "execution_count": 3,
   "metadata": {},
   "outputs": [
    {
     "data": {
      "text/html": [
       "<div>\n",
       "<style scoped>\n",
       "    .dataframe tbody tr th:only-of-type {\n",
       "        vertical-align: middle;\n",
       "    }\n",
       "\n",
       "    .dataframe tbody tr th {\n",
       "        vertical-align: top;\n",
       "    }\n",
       "\n",
       "    .dataframe thead th {\n",
       "        text-align: right;\n",
       "    }\n",
       "</style>\n",
       "<table border=\"1\" class=\"dataframe\">\n",
       "  <thead>\n",
       "    <tr style=\"text-align: right;\">\n",
       "      <th></th>\n",
       "      <th>label</th>\n",
       "      <th>news</th>\n",
       "    </tr>\n",
       "  </thead>\n",
       "  <tbody>\n",
       "    <tr>\n",
       "      <th>4841</th>\n",
       "      <td>negative</td>\n",
       "      <td>LONDON MarketWatch -- Share prices ended lower...</td>\n",
       "    </tr>\n",
       "    <tr>\n",
       "      <th>4842</th>\n",
       "      <td>neutral</td>\n",
       "      <td>Rinkuskiai 's beer sales fell by 6.5 per cent ...</td>\n",
       "    </tr>\n",
       "    <tr>\n",
       "      <th>4843</th>\n",
       "      <td>negative</td>\n",
       "      <td>Operating profit fell to EUR 35.4 mn from EUR ...</td>\n",
       "    </tr>\n",
       "    <tr>\n",
       "      <th>4844</th>\n",
       "      <td>negative</td>\n",
       "      <td>Net sales of the Paper segment decreased to EU...</td>\n",
       "    </tr>\n",
       "    <tr>\n",
       "      <th>4845</th>\n",
       "      <td>negative</td>\n",
       "      <td>Sales in Finland decreased by 10.5 % in Januar...</td>\n",
       "    </tr>\n",
       "  </tbody>\n",
       "</table>\n",
       "</div>"
      ],
      "text/plain": [
       "         label                                               news\n",
       "4841  negative  LONDON MarketWatch -- Share prices ended lower...\n",
       "4842   neutral  Rinkuskiai 's beer sales fell by 6.5 per cent ...\n",
       "4843  negative  Operating profit fell to EUR 35.4 mn from EUR ...\n",
       "4844  negative  Net sales of the Paper segment decreased to EU...\n",
       "4845  negative  Sales in Finland decreased by 10.5 % in Januar..."
      ]
     },
     "execution_count": 3,
     "metadata": {},
     "output_type": "execute_result"
    }
   ],
   "source": [
    "#Check DF head and Tail\n",
    "financial_news.head()\n",
    "financial_news.tail()"
   ]
  },
  {
   "cell_type": "code",
   "execution_count": 4,
   "metadata": {},
   "outputs": [
    {
     "data": {
      "text/plain": [
       "(4846, 2)"
      ]
     },
     "execution_count": 4,
     "metadata": {},
     "output_type": "execute_result"
    }
   ],
   "source": [
    "#Check shape of train df\n",
    "financial_news.shape"
   ]
  },
  {
   "cell_type": "code",
   "execution_count": 5,
   "metadata": {},
   "outputs": [
    {
     "name": "stdout",
     "output_type": "stream",
     "text": [
      "<class 'pandas.core.frame.DataFrame'>\n",
      "RangeIndex: 4846 entries, 0 to 4845\n",
      "Data columns (total 2 columns):\n",
      " #   Column  Non-Null Count  Dtype \n",
      "---  ------  --------------  ----- \n",
      " 0   label   4846 non-null   object\n",
      " 1   news    4846 non-null   object\n",
      "dtypes: object(2)\n",
      "memory usage: 75.8+ KB\n"
     ]
    }
   ],
   "source": [
    "#Check information of df\n",
    "#we can see there is no missing values \n",
    "financial_news.info()"
   ]
  },
  {
   "cell_type": "code",
   "execution_count": 6,
   "metadata": {},
   "outputs": [
    {
     "data": {
      "image/png": "[encoded data removed]",
      "text/plain": [
       "<Figure size 640x480 with 1 Axes>"
      ]
     },
     "metadata": {},
     "output_type": "display_data"
    },
    {
     "name": "stdout",
     "output_type": "stream",
     "text": [
      "label\n",
      "neutral     2879\n",
      "positive    1363\n",
      "negative     604\n",
      "Name: count, dtype: int64\n"
     ]
    }
   ],
   "source": [
    "#Check balance of the data set\n",
    "financial_news['label'].value_counts(ascending=True).plot.barh()\n",
    "plt.title(\"Balance of the target classes in the dataset\")\n",
    "plt.show()\n",
    "\n",
    "#We can notice that the data set is imbalanced\n",
    "print(financial_news['label'].value_counts())"
   ]
  },
  {
   "cell_type": "code",
   "execution_count": 7,
   "metadata": {},
   "outputs": [
    {
     "data": {
      "text/plain": [
       "81"
      ]
     },
     "execution_count": 7,
     "metadata": {},
     "output_type": "execute_result"
    }
   ],
   "source": [
    "#Check the maximum lenght of the documents\n",
    "financial_news['len'] = financial_news['news'].apply(lambda text: len(text.split()))\n",
    "financial_news['len'].max()"
   ]
  },
  {
   "cell_type": "code",
   "execution_count": 8,
   "metadata": {},
   "outputs": [
    {
     "data": {
      "text/html": [
       "<div>\n",
       "<style scoped>\n",
       "    .dataframe tbody tr th:only-of-type {\n",
       "        vertical-align: middle;\n",
       "    }\n",
       "\n",
       "    .dataframe tbody tr th {\n",
       "        vertical-align: top;\n",
       "    }\n",
       "\n",
       "    .dataframe thead th {\n",
       "        text-align: right;\n",
       "    }\n",
       "</style>\n",
       "<table border=\"1\" class=\"dataframe\">\n",
       "  <thead>\n",
       "    <tr style=\"text-align: right;\">\n",
       "      <th></th>\n",
       "      <th>label</th>\n",
       "      <th>news</th>\n",
       "    </tr>\n",
       "  </thead>\n",
       "  <tbody>\n",
       "    <tr>\n",
       "      <th>0</th>\n",
       "      <td>neutral</td>\n",
       "      <td>According to Gran , the company has no plans t...</td>\n",
       "    </tr>\n",
       "    <tr>\n",
       "      <th>1</th>\n",
       "      <td>neutral</td>\n",
       "      <td>Technopolis plans to develop in stages an area...</td>\n",
       "    </tr>\n",
       "    <tr>\n",
       "      <th>2</th>\n",
       "      <td>negative</td>\n",
       "      <td>The international electronic industry company ...</td>\n",
       "    </tr>\n",
       "  </tbody>\n",
       "</table>\n",
       "</div>"
      ],
      "text/plain": [
       "      label                                               news\n",
       "0   neutral  According to Gran , the company has no plans t...\n",
       "1   neutral  Technopolis plans to develop in stages an area...\n",
       "2  negative  The international electronic industry company ..."
      ]
     },
     "execution_count": 8,
     "metadata": {},
     "output_type": "execute_result"
    }
   ],
   "source": [
    "financial_news.drop(columns={'len'}, inplace=True)\n",
    "financial_news.head(3)"
   ]
  },
  {
   "cell_type": "markdown",
   "metadata": {},
   "source": [
    "# Step 2. Pre-processing"
   ]
  },
  {
   "cell_type": "markdown",
   "metadata": {},
   "source": [
    "### Approach 1. do not balance classes"
   ]
  },
  {
   "cell_type": "code",
   "execution_count": 9,
   "metadata": {},
   "outputs": [
    {
     "data": {
      "text/html": [
       "<div>\n",
       "<style scoped>\n",
       "    .dataframe tbody tr th:only-of-type {\n",
       "        vertical-align: middle;\n",
       "    }\n",
       "\n",
       "    .dataframe tbody tr th {\n",
       "        vertical-align: top;\n",
       "    }\n",
       "\n",
       "    .dataframe thead th {\n",
       "        text-align: right;\n",
       "    }\n",
       "</style>\n",
       "<table border=\"1\" class=\"dataframe\">\n",
       "  <thead>\n",
       "    <tr style=\"text-align: right;\">\n",
       "      <th></th>\n",
       "      <th>label</th>\n",
       "      <th>news</th>\n",
       "    </tr>\n",
       "  </thead>\n",
       "  <tbody>\n",
       "    <tr>\n",
       "      <th>0</th>\n",
       "      <td>0</td>\n",
       "      <td>According to Gran , the company has no plans t...</td>\n",
       "    </tr>\n",
       "    <tr>\n",
       "      <th>1</th>\n",
       "      <td>0</td>\n",
       "      <td>Technopolis plans to develop in stages an area...</td>\n",
       "    </tr>\n",
       "    <tr>\n",
       "      <th>2</th>\n",
       "      <td>2</td>\n",
       "      <td>The international electronic industry company ...</td>\n",
       "    </tr>\n",
       "    <tr>\n",
       "      <th>3</th>\n",
       "      <td>1</td>\n",
       "      <td>With the new production plant the company woul...</td>\n",
       "    </tr>\n",
       "    <tr>\n",
       "      <th>4</th>\n",
       "      <td>1</td>\n",
       "      <td>According to the company 's updated strategy f...</td>\n",
       "    </tr>\n",
       "  </tbody>\n",
       "</table>\n",
       "</div>"
      ],
      "text/plain": [
       "   label                                               news\n",
       "0      0  According to Gran , the company has no plans t...\n",
       "1      0  Technopolis plans to develop in stages an area...\n",
       "2      2  The international electronic industry company ...\n",
       "3      1  With the new production plant the company woul...\n",
       "4      1  According to the company 's updated strategy f..."
      ]
     },
     "execution_count": 9,
     "metadata": {},
     "output_type": "execute_result"
    }
   ],
   "source": [
    "#First let's map the labels to integers\n",
    "\n",
    "lable_map = {'negative': 2, 'neutral': 0, 'positive': 1}\n",
    "financial_news['label'] = financial_news['label'].map(lable_map)\n",
    "financial_news.head()"
   ]
  },
  {
   "cell_type": "code",
   "execution_count": 10,
   "metadata": {},
   "outputs": [],
   "source": [
    "#Save approach 1 dataframe to folder\n",
    "financial_news.to_csv('data/financial_news_1.csv', index=False)"
   ]
  },
  {
   "cell_type": "markdown",
   "metadata": {},
   "source": [
    "### Approach 2. Downsampling"
   ]
  },
  {
   "cell_type": "code",
   "execution_count": 11,
   "metadata": {},
   "outputs": [],
   "source": [
    "# Let's downsample positive and neutral labels to create a balanced data set\n",
    "financial_news_ds = financial_news.copy() # Copy DF\n",
    "\n",
    "#Now let's separate our 3 classes to perform downsample\n",
    "financial_news_n = financial_news_ds.loc[financial_news_ds.label == 2] #Negative label\n",
    "financial_news_0 = financial_news_ds.loc[financial_news_ds.label ==  0] #Neutral label\n",
    "financial_news_1 = financial_news_ds.loc[financial_news_ds.label ==  1] #Positive label "
   ]
  },
  {
   "cell_type": "code",
   "execution_count": 12,
   "metadata": {},
   "outputs": [
    {
     "data": {
      "text/plain": [
       "array([1], dtype=int64)"
      ]
     },
     "execution_count": 12,
     "metadata": {},
     "output_type": "execute_result"
    }
   ],
   "source": [
    "#Check separated labels\n",
    "financial_news_n['label'].unique()\n",
    "financial_news_0['label'].unique()\n",
    "financial_news_1['label'].unique()"
   ]
  },
  {
   "cell_type": "code",
   "execution_count": 13,
   "metadata": {},
   "outputs": [],
   "source": [
    "#Downsample positive and neutral labels to be same length as negative label\n",
    "financial_news_0 = financial_news_0.iloc[0:604, :]\n",
    "financial_news_1 = financial_news_1.iloc[0:604, :]"
   ]
  },
  {
   "cell_type": "code",
   "execution_count": 14,
   "metadata": {},
   "outputs": [
    {
     "data": {
      "text/plain": [
       "(604,)"
      ]
     },
     "execution_count": 14,
     "metadata": {},
     "output_type": "execute_result"
    }
   ],
   "source": [
    "#Check shapes\n",
    "financial_news_0['label'].shape\n",
    "financial_news_1['label'].shape"
   ]
  },
  {
   "cell_type": "code",
   "execution_count": 15,
   "metadata": {},
   "outputs": [
    {
     "data": {
      "text/html": [
       "<div>\n",
       "<style scoped>\n",
       "    .dataframe tbody tr th:only-of-type {\n",
       "        vertical-align: middle;\n",
       "    }\n",
       "\n",
       "    .dataframe tbody tr th {\n",
       "        vertical-align: top;\n",
       "    }\n",
       "\n",
       "    .dataframe thead th {\n",
       "        text-align: right;\n",
       "    }\n",
       "</style>\n",
       "<table border=\"1\" class=\"dataframe\">\n",
       "  <thead>\n",
       "    <tr style=\"text-align: right;\">\n",
       "      <th></th>\n",
       "      <th>label</th>\n",
       "      <th>news</th>\n",
       "    </tr>\n",
       "  </thead>\n",
       "  <tbody>\n",
       "    <tr>\n",
       "      <th>1807</th>\n",
       "      <td>1</td>\n",
       "      <td>Finnish electronics manufacturing services com...</td>\n",
       "    </tr>\n",
       "    <tr>\n",
       "      <th>1808</th>\n",
       "      <td>1</td>\n",
       "      <td>ADPnews - Jun 30 , 2009 - Finnish stainless st...</td>\n",
       "    </tr>\n",
       "    <tr>\n",
       "      <th>1809</th>\n",
       "      <td>1</td>\n",
       "      <td>The growth in the activeness of Talentum 's cu...</td>\n",
       "    </tr>\n",
       "    <tr>\n",
       "      <th>1810</th>\n",
       "      <td>1</td>\n",
       "      <td>( ADP News ) - Feb 11 , 2009 - Finnish managem...</td>\n",
       "    </tr>\n",
       "    <tr>\n",
       "      <th>1811</th>\n",
       "      <td>2</td>\n",
       "      <td>Finnair 's total traffic decreased by 8.7 % in...</td>\n",
       "    </tr>\n",
       "  </tbody>\n",
       "</table>\n",
       "</div>"
      ],
      "text/plain": [
       "      label                                               news\n",
       "1807      1  Finnish electronics manufacturing services com...\n",
       "1808      1  ADPnews - Jun 30 , 2009 - Finnish stainless st...\n",
       "1809      1  The growth in the activeness of Talentum 's cu...\n",
       "1810      1  ( ADP News ) - Feb 11 , 2009 - Finnish managem...\n",
       "1811      2  Finnair 's total traffic decreased by 8.7 % in..."
      ]
     },
     "execution_count": 15,
     "metadata": {},
     "output_type": "execute_result"
    }
   ],
   "source": [
    "#put everything together again\n",
    "financial_news_ds = pd.concat([financial_news_n, financial_news_0, financial_news_1])\n",
    "\n",
    "#shuffle rows and reset index\n",
    "financial_news_ds = financial_news_ds.sample(frac=1).reset_index(drop=True)\n",
    "\n",
    "#check df\n",
    "financial_news_ds.tail()"
   ]
  },
  {
   "cell_type": "code",
   "execution_count": 16,
   "metadata": {},
   "outputs": [
    {
     "data": {
      "image/png": "[encoded data removed]",
      "text/plain": [
       "<Figure size 640x480 with 1 Axes>"
      ]
     },
     "metadata": {},
     "output_type": "display_data"
    },
    {
     "name": "stdout",
     "output_type": "stream",
     "text": [
      "label\n",
      "0    604\n",
      "2    604\n",
      "1    604\n",
      "Name: count, dtype: int64\n"
     ]
    }
   ],
   "source": [
    "#Check balance of the data set\n",
    "financial_news_ds['label'].value_counts(ascending=True).plot.barh()\n",
    "plt.title(\"Balance of the target classes in the dataset\")\n",
    "plt.show()\n",
    "\n",
    "#We can notice that the data set is imbalanced\n",
    "print(financial_news_ds['label'].value_counts())"
   ]
  },
  {
   "cell_type": "code",
   "execution_count": 17,
   "metadata": {},
   "outputs": [],
   "source": [
    "#save approach 2 dataframe \n",
    "financial_news_ds.to_csv('data/financial_news_2.csv', index=False)"
   ]
  },
  {
   "cell_type": "markdown",
   "metadata": {},
   "source": [
    "# Step 3. Feature extraction"
   ]
  },
  {
   "cell_type": "markdown",
   "metadata": {},
   "source": [
    "## Feature Extraction for Transfer Learning\n",
    "### Ignore this section for this notebook"
   ]
  },
  {
   "cell_type": "code",
   "execution_count": 18,
   "metadata": {},
   "outputs": [
    {
     "name": "stderr",
     "output_type": "stream",
     "text": [
      "Generating train split: 4846 examples [00:00, 164823.97 examples/s]\n",
      "Generating train split: 1812 examples [00:00, 159695.72 examples/s]\n"
     ]
    }
   ],
   "source": [
    "# Load raw data set\n",
    "from datasets import load_dataset\n",
    "from datasets import DatasetDict\n",
    "raw_dataset_1 = load_dataset('csv', data_files='data/financial_news_1.csv')\n",
    "raw_dataset_2 = load_dataset('csv', data_files='data/financial_news_2.csv')"
   ]
  },
  {
   "cell_type": "code",
   "execution_count": 19,
   "metadata": {},
   "outputs": [
    {
     "data": {
      "text/plain": [
       "DatasetDict({\n",
       "    train: Dataset({\n",
       "        features: ['label', 'news'],\n",
       "        num_rows: 1812\n",
       "    })\n",
       "})"
      ]
     },
     "execution_count": 19,
     "metadata": {},
     "output_type": "execute_result"
    }
   ],
   "source": [
    "#Check raw data sets\n",
    "raw_dataset_1\n",
    "raw_dataset_2"
   ]
  },
  {
   "cell_type": "code",
   "execution_count": 20,
   "metadata": {},
   "outputs": [
    {
     "data": {
      "text/plain": [
       "DatasetDict({\n",
       "    train: Dataset({\n",
       "        features: ['label', 'news'],\n",
       "        num_rows: 3876\n",
       "    })\n",
       "    test: Dataset({\n",
       "        features: ['label', 'news'],\n",
       "        num_rows: 582\n",
       "    })\n",
       "    valid: Dataset({\n",
       "        features: ['label', 'news'],\n",
       "        num_rows: 388\n",
       "    })\n",
       "})"
      ]
     },
     "execution_count": 20,
     "metadata": {},
     "output_type": "execute_result"
    }
   ],
   "source": [
    "#Create train, test and validation splits\n",
    "\n",
    "#First split into train/test 30% for split, and specify seed\n",
    "train_test_split_1 = raw_dataset_1['train'].train_test_split(test_size=0.2, seed=18)\n",
    "train_test_split_2 = raw_dataset_2['train'].train_test_split(test_size=0.2, seed=18)\n",
    "\n",
    "#Now split into train/test/val making 40% of test data for validation and specify seed\n",
    "train_test_val_split_1 = train_test_split_1['test'].train_test_split(test_size=0.4, seed=18)\n",
    "train_test_val_split_2 = train_test_split_2['test'].train_test_split(test_size=0.4, seed=18)\n",
    "\n",
    "#Gather everything into single dataset dicts\n",
    "train_test_val_split_1 = DatasetDict({'train': train_test_split_1['train'], 'test': train_test_val_split_1['train'], 'valid': train_test_val_split_1['test']})\n",
    "train_test_val_split_2 = DatasetDict({'train': train_test_split_2['train'], 'test': train_test_val_split_2['train'], 'valid': train_test_val_split_2['test']})\n",
    "\n",
    "train_test_val_split_1"
   ]
  },
  {
   "cell_type": "code",
   "execution_count": 21,
   "metadata": {},
   "outputs": [],
   "source": [
    "# For fine tuning a pre trained model we are choosing to use distilBERT since it's lighter than other BERT based models while conserving the vast majority of BERT's performance\n",
    "\n",
    "# Import AutoTokenizer and create tokenizer object\n",
    "from transformers import AutoTokenizer\n",
    "model_ckpt = 'distilbert-base-uncased'\n",
    "tokenizer = AutoTokenizer.from_pretrained(model_ckpt)"
   ]
  },
  {
   "cell_type": "code",
   "execution_count": 22,
   "metadata": {},
   "outputs": [],
   "source": [
    "#Define function to tokenize data in a batch which should be a dictionary like object containing data to be tokenized\n",
    "def to_tokens(batch):\n",
    "    return tokenizer(batch['news'], truncation=True, padding=True)"
   ]
  },
  {
   "cell_type": "code",
   "execution_count": 23,
   "metadata": {},
   "outputs": [
    {
     "name": "stderr",
     "output_type": "stream",
     "text": [
      "Map:   0%|          | 0/3876 [00:00<?, ? examples/s]"
     ]
    },
    {
     "name": "stderr",
     "output_type": "stream",
     "text": [
      "Map: 100%|██████████| 3876/3876 [00:00<00:00, 5915.36 examples/s]\n",
      "Map: 100%|██████████| 582/582 [00:00<00:00, 6938.96 examples/s]\n",
      "Map: 100%|██████████| 388/388 [00:00<00:00, 5352.08 examples/s]\n",
      "Map: 100%|██████████| 1449/1449 [00:00<00:00, 7698.38 examples/s]\n",
      "Map: 100%|██████████| 217/217 [00:00<00:00, 3612.61 examples/s]\n",
      "Map: 100%|██████████| 146/146 [00:00<00:00, 3370.48 examples/s]\n"
     ]
    }
   ],
   "source": [
    "#Now tokenize data from the data sets:\n",
    "tokenized_split_1 = train_test_val_split_1.map(to_tokens, batched=True)\n",
    "tokenized_split_2 = train_test_val_split_2.map(to_tokens, batched=True)"
   ]
  },
  {
   "cell_type": "code",
   "execution_count": 24,
   "metadata": {},
   "outputs": [
    {
     "data": {
      "text/plain": [
       "DatasetDict({\n",
       "    train: Dataset({\n",
       "        features: ['label', 'news', 'input_ids', 'attention_mask'],\n",
       "        num_rows: 3876\n",
       "    })\n",
       "    test: Dataset({\n",
       "        features: ['label', 'news', 'input_ids', 'attention_mask'],\n",
       "        num_rows: 582\n",
       "    })\n",
       "    valid: Dataset({\n",
       "        features: ['label', 'news', 'input_ids', 'attention_mask'],\n",
       "        num_rows: 388\n",
       "    })\n",
       "})"
      ]
     },
     "execution_count": 24,
     "metadata": {},
     "output_type": "execute_result"
    }
   ],
   "source": [
    "tokenized_split_1"
   ]
  },
  {
   "cell_type": "markdown",
   "metadata": {},
   "source": [
    "## Feature Extraction for Training an LSTM model from scratch"
   ]
  },
  {
   "cell_type": "code",
   "execution_count": 60,
   "metadata": {},
   "outputs": [],
   "source": [
    "#For this approach we will use Word2Vec Google negative 300 bin file. \n",
    "#Since this file was trained on news it should make sense to make feature extraction for news headlines\n",
    "#import libraries\n",
    "from gensim.models import Word2Vec, KeyedVectors\n",
    "\n",
    "#Read bin file\n",
    "#Word2Vec\n",
    "data_path = 'C:/Users/kurom/Desktop/AI_GBC/S2/AppMath_DL/GoogleNews-vectors-negative300.bin'\n",
    "\n",
    "#load Word2Vec Model\n",
    "word2vec_model = KeyedVectors.load_word2vec_format(data_path, binary=True)"
   ]
  },
  {
   "cell_type": "code",
   "execution_count": 61,
   "metadata": {},
   "outputs": [
    {
     "data": {
      "text/html": [
       "<div>\n",
       "<style scoped>\n",
       "    .dataframe tbody tr th:only-of-type {\n",
       "        vertical-align: middle;\n",
       "    }\n",
       "\n",
       "    .dataframe tbody tr th {\n",
       "        vertical-align: top;\n",
       "    }\n",
       "\n",
       "    .dataframe thead th {\n",
       "        text-align: right;\n",
       "    }\n",
       "</style>\n",
       "<table border=\"1\" class=\"dataframe\">\n",
       "  <thead>\n",
       "    <tr style=\"text-align: right;\">\n",
       "      <th></th>\n",
       "      <th>label</th>\n",
       "      <th>news</th>\n",
       "    </tr>\n",
       "  </thead>\n",
       "  <tbody>\n",
       "    <tr>\n",
       "      <th>0</th>\n",
       "      <td>0</td>\n",
       "      <td>Ponsse plans to create a network that is based...</td>\n",
       "    </tr>\n",
       "    <tr>\n",
       "      <th>1</th>\n",
       "      <td>2</td>\n",
       "      <td>Ramirent made 18 million kroons EUR 1.15 mln l...</td>\n",
       "    </tr>\n",
       "    <tr>\n",
       "      <th>2</th>\n",
       "      <td>0</td>\n",
       "      <td>According to Vauramo , the plant 's lifting eq...</td>\n",
       "    </tr>\n",
       "    <tr>\n",
       "      <th>3</th>\n",
       "      <td>2</td>\n",
       "      <td>The company said that its comparable operating...</td>\n",
       "    </tr>\n",
       "    <tr>\n",
       "      <th>4</th>\n",
       "      <td>1</td>\n",
       "      <td>Net sales surged by 30 % to EUR 36 million .</td>\n",
       "    </tr>\n",
       "  </tbody>\n",
       "</table>\n",
       "</div>"
      ],
      "text/plain": [
       "   label                                               news\n",
       "0      0  Ponsse plans to create a network that is based...\n",
       "1      2  Ramirent made 18 million kroons EUR 1.15 mln l...\n",
       "2      0  According to Vauramo , the plant 's lifting eq...\n",
       "3      2  The company said that its comparable operating...\n",
       "4      1       Net sales surged by 30 % to EUR 36 million ."
      ]
     },
     "execution_count": 61,
     "metadata": {},
     "output_type": "execute_result"
    }
   ],
   "source": [
    "#Read data sets\n",
    "w2v_dataset_1 = pd.read_csv('data/financial_news_1.csv')\n",
    "w2v_dataset_2 = pd.read_csv('data/financial_news_2.csv')\n",
    "\n",
    "w2v_dataset_1.head()\n",
    "w2v_dataset_2.head()"
   ]
  },
  {
   "cell_type": "code",
   "execution_count": 62,
   "metadata": {},
   "outputs": [],
   "source": [
    "#Get a list of list of the news cleaned from non alphabet characters\n",
    "list_of_list_news_1 = [w2v_dataset_1.loc[i, ['news']].iloc[0].split() for i in range(len(w2v_dataset_1['news']))]\n",
    "list_of_list_news_2 = [w2v_dataset_2.loc[i, ['news']].iloc[0].split() for i in range(len(w2v_dataset_2['news']))]"
   ]
  },
  {
   "cell_type": "code",
   "execution_count": 63,
   "metadata": {},
   "outputs": [
    {
     "data": {
      "text/plain": [
       "['According',\n",
       " 'to',\n",
       " 'Gran',\n",
       " ',',\n",
       " 'the',\n",
       " 'company',\n",
       " 'has',\n",
       " 'no',\n",
       " 'plans',\n",
       " 'to',\n",
       " 'move',\n",
       " 'all',\n",
       " 'production',\n",
       " 'to',\n",
       " 'Russia',\n",
       " ',',\n",
       " 'although',\n",
       " 'that',\n",
       " 'is',\n",
       " 'where',\n",
       " 'the',\n",
       " 'company',\n",
       " 'is',\n",
       " 'growing',\n",
       " '.']"
      ]
     },
     "execution_count": 63,
     "metadata": {},
     "output_type": "execute_result"
    }
   ],
   "source": [
    "list_of_list_news_1[0]"
   ]
  },
  {
   "cell_type": "code",
   "execution_count": 64,
   "metadata": {},
   "outputs": [],
   "source": [
    "#Clean each new from non alphabet characters\n",
    "import re\n",
    "regex = re.compile('[^a-zA-Z]')\n",
    "\n",
    "re_list_of_lists_1 = []\n",
    "for i in range(len(list_of_list_news_1)):\n",
    "    temp = [regex.sub('', list_of_list_news_1[i][token]) for token in range(len(list_of_list_news_1[i]))]\n",
    "    temp = list(filter(lambda a: a != '', temp))\n",
    "    re_list_of_lists_1.append(temp)\n",
    "\n",
    "re_list_of_lists_2 = []\n",
    "for i in range(len(list_of_list_news_2)):\n",
    "    temp = [regex.sub('', list_of_list_news_2[i][token]) for token in range(len(list_of_list_news_2[i]))]\n",
    "    temp = list(filter(lambda a: a != '', temp))\n",
    "    re_list_of_lists_2.append(temp)"
   ]
  },
  {
   "cell_type": "code",
   "execution_count": 65,
   "metadata": {},
   "outputs": [
    {
     "data": {
      "text/plain": [
       "['According',\n",
       " 'to',\n",
       " 'Gran',\n",
       " 'the',\n",
       " 'company',\n",
       " 'has',\n",
       " 'no',\n",
       " 'plans',\n",
       " 'to',\n",
       " 'move',\n",
       " 'all',\n",
       " 'production',\n",
       " 'to',\n",
       " 'Russia',\n",
       " 'although',\n",
       " 'that',\n",
       " 'is',\n",
       " 'where',\n",
       " 'the',\n",
       " 'company',\n",
       " 'is',\n",
       " 'growing']"
      ]
     },
     "execution_count": 65,
     "metadata": {},
     "output_type": "execute_result"
    }
   ],
   "source": [
    "re_list_of_lists_1[0]"
   ]
  },
  {
   "cell_type": "code",
   "execution_count": 66,
   "metadata": {},
   "outputs": [],
   "source": [
    "#Extract Features using Word2Vec\n",
    "def embbeding_word_feats(list_of_lists):\n",
    "    #DIMENSION = 300 #Dimension of the vectors that represent word (embbedings)\n",
    "    #zero_vector = np.zeros(DIMENSION) #zero vector\n",
    "    feats = []\n",
    "    corpus = list_of_lists\n",
    "    for doc in corpus:\n",
    "        feats_for_doc = []\n",
    "        for token in doc:\n",
    "            if token in word2vec_model:\n",
    "                feats_for_doc.append(word2vec_model[token])\n",
    "        feats.append(feats_for_doc)\n",
    "    return feats"
   ]
  },
  {
   "cell_type": "code",
   "execution_count": 67,
   "metadata": {},
   "outputs": [],
   "source": [
    "w2v_embbedings_1 = embbeding_word_feats(re_list_of_lists_1)\n",
    "w2v_embbedings_2 = embbeding_word_feats(re_list_of_lists_2)"
   ]
  },
  {
   "cell_type": "code",
   "execution_count": 68,
   "metadata": {},
   "outputs": [
    {
     "name": "stdout",
     "output_type": "stream",
     "text": [
      "(4846, 2)\n",
      "4846\n",
      "19\n",
      "300\n"
     ]
    }
   ],
   "source": [
    "#Sanity checkk\n",
    "print(w2v_dataset_1.shape)\n",
    "print(len(w2v_embbedings_1))\n",
    "print(len(w2v_embbedings_1[0]))\n",
    "print(len(w2v_embbedings_1[0][1]))"
   ]
  },
  {
   "cell_type": "code",
   "execution_count": 69,
   "metadata": {},
   "outputs": [
    {
     "name": "stdout",
     "output_type": "stream",
     "text": [
      "45\n",
      "45\n"
     ]
    }
   ],
   "source": [
    "#Right the number of tokens in each document is different so we need to padd them to be able to feed them to the LSTM nn\n",
    "\n",
    "#Check the maximum number of tokens in documents across the corpus\n",
    "temp_1 = [len(w2v_embbedings_1[i]) for i in range(len(w2v_embbedings_1))]\n",
    "print(max(temp_1))\n",
    "\n",
    "temp_2 = [len(w2v_embbedings_2[i]) for i in range(len(w2v_embbedings_2))]\n",
    "print(max(temp_2))"
   ]
  },
  {
   "cell_type": "code",
   "execution_count": 70,
   "metadata": {},
   "outputs": [],
   "source": [
    "#Pad the number of tokens in documents\n",
    "def padding_embbedings(list_of_lists, pad_to=45):\n",
    "    DIMENSION = 300 #Dimension of the vectors that represent word (embbedings)\n",
    "    zero_vector = np.zeros(DIMENSION) #zero vector\n",
    "    feats = []\n",
    "    corpus = list_of_lists\n",
    "    for doc in corpus:\n",
    "        padded_doc = doc.copy()\n",
    "        if len(doc) < pad_to:\n",
    "            a = pad_to - len(doc)\n",
    "            for i in range(a):\n",
    "                padded_doc.append(zero_vector)\n",
    "        feats.append(padded_doc)\n",
    "    return feats\n"
   ]
  },
  {
   "cell_type": "code",
   "execution_count": 71,
   "metadata": {},
   "outputs": [],
   "source": [
    "w2v_embbedings_1 = padding_embbedings(w2v_embbedings_1, pad_to=45)\n",
    "w2v_embbedings_2 = padding_embbedings(w2v_embbedings_2, pad_to=45)"
   ]
  },
  {
   "cell_type": "code",
   "execution_count": 72,
   "metadata": {},
   "outputs": [
    {
     "name": "stdout",
     "output_type": "stream",
     "text": [
      "(1812, 2)\n",
      "1812\n",
      "45\n",
      "300\n"
     ]
    }
   ],
   "source": [
    "#Sanity checkk\n",
    "print(w2v_dataset_2.shape)\n",
    "print(len(w2v_embbedings_2))\n",
    "print(len(w2v_embbedings_2[0]))\n",
    "print(len(w2v_embbedings_2[0][1]))"
   ]
  },
  {
   "cell_type": "code",
   "execution_count": 73,
   "metadata": {},
   "outputs": [],
   "source": [
    "import tensorflow as tf\n",
    "#Now cast to np array\n",
    "X_1 = np.array(w2v_embbedings_1)\n",
    "X_2 = np.array(w2v_embbedings_2)\n",
    "\n",
    "#Transform y into on hot encoded labels\n",
    "#lable_map = {2: np.array([1,0,0]), 0:np.array([0,1,0]), 1:np.array([0,0,1])}\n",
    "\n",
    "#y_1 = np.array(w2v_dataset_1['label'].map(lable_map))\n",
    "#y_2 = np.array(w2v_dataset_2['label'].map(lable_map))\n",
    "\n",
    "y_1 = tf.keras.utils.to_categorical(w2v_dataset_1['label'], num_classes=3)\n",
    "y_2 = tf.keras.utils.to_categorical(w2v_dataset_2['label'], num_classes=3)\n",
    "\n",
    "\n",
    "#Finally let's do tran val test split\n",
    "from sklearn.model_selection import train_test_split\n",
    "\n",
    "X_train_1, X_test_1, y_train_1, y_test_1 = train_test_split(X_1, y_1, test_size=0.2, random_state=18)\n",
    "X_test_1, X_val_1, y_test_1, y_val_1 = train_test_split(X_test_1, y_test_1, test_size=0.4, random_state=18)\n",
    "\n",
    "X_train_2, X_test_2, y_train_2, y_test_2 = train_test_split(X_2, y_2, test_size=0.2, random_state=18)\n",
    "X_test_2, X_val_2, y_test_2, y_val_2 = train_test_split(X_test_2, y_test_2, test_size=0.4, random_state=18)"
   ]
  },
  {
   "cell_type": "code",
   "execution_count": 74,
   "metadata": {},
   "outputs": [
    {
     "data": {
      "text/plain": [
       "(3876, 45, 300)"
      ]
     },
     "execution_count": 74,
     "metadata": {},
     "output_type": "execute_result"
    }
   ],
   "source": [
    "#Sanity check\n",
    "X_train_1.shape"
   ]
  },
  {
   "cell_type": "code",
   "execution_count": 75,
   "metadata": {},
   "outputs": [
    {
     "data": {
      "text/plain": [
       "(3876, 3)"
      ]
     },
     "execution_count": 75,
     "metadata": {},
     "output_type": "execute_result"
    }
   ],
   "source": [
    "y_train_1.shape"
   ]
  },
  {
   "cell_type": "markdown",
   "metadata": {},
   "source": [
    "# Step 4 Training"
   ]
  },
  {
   "cell_type": "markdown",
   "metadata": {},
   "source": [
    "### Approach 2. Train an LSTM model from scratch"
   ]
  },
  {
   "cell_type": "code",
   "execution_count": 76,
   "metadata": {},
   "outputs": [
    {
     "name": "stdout",
     "output_type": "stream",
     "text": [
      "Epoch 1/20\n",
      "WARNING:tensorflow:From c:\\Users\\kurom\\anaconda3\\envs\\dl-venv\\lib\\site-packages\\keras\\src\\utils\\tf_utils.py:492: The name tf.ragged.RaggedTensorValue is deprecated. Please use tf.compat.v1.ragged.RaggedTensorValue instead.\n",
      "\n",
      "122/122 [==============================] - 6s 25ms/step - loss: 1.0003 - val_loss: 0.9230\n",
      "Epoch 2/20\n",
      "122/122 [==============================] - 3s 21ms/step - loss: 0.9439 - val_loss: 0.9231\n",
      "Epoch 3/20\n",
      "122/122 [==============================] - 3s 22ms/step - loss: 0.9424 - val_loss: 0.9292\n",
      "Epoch 4/20\n",
      "122/122 [==============================] - 4s 33ms/step - loss: 0.9444 - val_loss: 0.9194\n",
      "Epoch 5/20\n",
      "122/122 [==============================] - 4s 35ms/step - loss: 0.9361 - val_loss: 0.9238\n",
      "Epoch 6/20\n",
      "122/122 [==============================] - 3s 22ms/step - loss: 0.9360 - val_loss: 0.9201\n",
      "Epoch 7/20\n",
      "122/122 [==============================] - 3s 23ms/step - loss: 0.9352 - val_loss: 0.9274\n",
      "Epoch 8/20\n",
      "122/122 [==============================] - 3s 23ms/step - loss: 0.9348 - val_loss: 0.9205\n",
      "Epoch 9/20\n",
      "122/122 [==============================] - 2s 19ms/step - loss: 0.9296 - val_loss: 0.9180\n",
      "Epoch 10/20\n",
      "122/122 [==============================] - 2s 16ms/step - loss: 0.9221 - val_loss: 0.9043\n",
      "Epoch 11/20\n",
      "122/122 [==============================] - 2s 17ms/step - loss: 0.8962 - val_loss: 0.8822\n",
      "Epoch 12/20\n",
      "122/122 [==============================] - 2s 18ms/step - loss: 0.8380 - val_loss: 0.7993\n",
      "Epoch 13/20\n",
      "122/122 [==============================] - 2s 18ms/step - loss: 0.7439 - val_loss: 0.7534\n",
      "Epoch 14/20\n",
      "122/122 [==============================] - 2s 18ms/step - loss: 0.6986 - val_loss: 0.7258\n",
      "Epoch 15/20\n",
      "122/122 [==============================] - 2s 18ms/step - loss: 0.6567 - val_loss: 0.7021\n",
      "Epoch 16/20\n",
      "122/122 [==============================] - 2s 17ms/step - loss: 0.6323 - val_loss: 0.7228\n",
      "Epoch 17/20\n",
      "122/122 [==============================] - 2s 17ms/step - loss: 0.6059 - val_loss: 0.6867\n",
      "Epoch 18/20\n",
      "122/122 [==============================] - 2s 17ms/step - loss: 0.5863 - val_loss: 0.6676\n",
      "Epoch 19/20\n",
      "122/122 [==============================] - 2s 17ms/step - loss: 0.5702 - val_loss: 0.6694\n",
      "Epoch 20/20\n",
      "122/122 [==============================] - 2s 17ms/step - loss: 0.5493 - val_loss: 0.6670\n",
      "Process execution time : 56.45\n"
     ]
    }
   ],
   "source": [
    "from keras import layers\n",
    "from keras import optimizers\n",
    "from keras.layers import Dropout\n",
    "from keras.models import Sequential\n",
    "import time\n",
    "\n",
    "#Define LSTM architechture for imbalanced dataset\n",
    "lstm_model_1 = Sequential()\n",
    "lstm_model_1.add(layers.LSTM(units=32, return_sequences=False, input_shape=(X_train_1.shape[1], X_train_1.shape[2]), activation=\"sigmoid\" )) #add first layer for lstm\n",
    "lstm_model_1.add(Dropout(0.2)) #Dropout for regularization\n",
    "#lstm_model_1.add(layers.LSTM(units=32, return_sequences=False, activation=\"tanh\") ) #add second lstm layer\n",
    "#lstm_model_1.add(Dropout(0.2)) #Dropout for regularization\n",
    "lstm_model_1.add(layers.Dense(3, activation='softmax')) #Final layer for multiclass prediction\n",
    "\n",
    "#optimizer = optimizers.SGD(learning_rate=0.001, momentum=0.0, nesterov=False)\n",
    "lstm_model_1.compile(optimizer='adam', loss='categorical_crossentropy')\n",
    "start = time.time()\n",
    "lstm_history_1 = lstm_model_1.fit(X_train_1, y_train_1, epochs=30, batch_size=32, validation_data=(X_val_1, y_val_1))\n",
    "end = time.time()\n",
    "print(\"Process execution time :\", round(end-start, 2))"
   ]
  },
  {
   "cell_type": "code",
   "execution_count": 77,
   "metadata": {},
   "outputs": [
    {
     "name": "stdout",
     "output_type": "stream",
     "text": [
      "Epoch 1/30\n",
      "WARNING:tensorflow:From c:\\Users\\kurom\\anaconda3\\envs\\dl-venv\\lib\\site-packages\\keras\\src\\engine\\base_layer_utils.py:384: The name tf.executing_eagerly_outside_functions is deprecated. Please use tf.compat.v1.executing_eagerly_outside_functions instead.\n",
      "\n",
      "145/145 [==============================] - 8s 17ms/step - loss: 1.1307 - accuracy: 0.3251 - val_loss: 1.1072 - val_accuracy: 0.2877\n",
      "Epoch 2/30\n",
      "145/145 [==============================] - 2s 13ms/step - loss: 1.1045 - accuracy: 0.3561 - val_loss: 1.1063 - val_accuracy: 0.3425\n",
      "Epoch 3/30\n",
      "145/145 [==============================] - 2s 13ms/step - loss: 1.1126 - accuracy: 0.3368 - val_loss: 1.1027 - val_accuracy: 0.3425\n",
      "Epoch 4/30\n",
      "145/145 [==============================] - 2s 16ms/step - loss: 1.1083 - accuracy: 0.3416 - val_loss: 1.0980 - val_accuracy: 0.3699\n",
      "Epoch 5/30\n",
      "145/145 [==============================] - 3s 18ms/step - loss: 1.1034 - accuracy: 0.3416 - val_loss: 1.1018 - val_accuracy: 0.2877\n",
      "Epoch 6/30\n",
      "145/145 [==============================] - 4s 27ms/step - loss: 1.1061 - accuracy: 0.3326 - val_loss: 1.0956 - val_accuracy: 0.3699\n",
      "Epoch 7/30\n",
      "145/145 [==============================] - 2s 16ms/step - loss: 1.1091 - accuracy: 0.3126 - val_loss: 1.0971 - val_accuracy: 0.3699\n",
      "Epoch 8/30\n",
      "145/145 [==============================] - 2s 14ms/step - loss: 1.1059 - accuracy: 0.3230 - val_loss: 1.0965 - val_accuracy: 0.3425\n",
      "Epoch 9/30\n",
      "145/145 [==============================] - 2s 15ms/step - loss: 1.1063 - accuracy: 0.3285 - val_loss: 1.0925 - val_accuracy: 0.3699\n",
      "Epoch 10/30\n",
      "145/145 [==============================] - 2s 13ms/step - loss: 1.0961 - accuracy: 0.3575 - val_loss: 1.0891 - val_accuracy: 0.4589\n",
      "Epoch 11/30\n",
      "145/145 [==============================] - 2s 16ms/step - loss: 1.0884 - accuracy: 0.3609 - val_loss: 1.0764 - val_accuracy: 0.4795\n",
      "Epoch 12/30\n",
      "145/145 [==============================] - 3s 19ms/step - loss: 1.0728 - accuracy: 0.4072 - val_loss: 1.0649 - val_accuracy: 0.5137\n",
      "Epoch 13/30\n",
      "145/145 [==============================] - 2s 16ms/step - loss: 1.0569 - accuracy: 0.4396 - val_loss: 1.0415 - val_accuracy: 0.4932\n",
      "Epoch 14/30\n",
      "145/145 [==============================] - 3s 18ms/step - loss: 0.9974 - accuracy: 0.5321 - val_loss: 0.9652 - val_accuracy: 0.4863\n",
      "Epoch 15/30\n",
      "145/145 [==============================] - 3s 18ms/step - loss: 0.8903 - accuracy: 0.5521 - val_loss: 0.8848 - val_accuracy: 0.5753\n",
      "Epoch 16/30\n",
      "145/145 [==============================] - 2s 17ms/step - loss: 0.8163 - accuracy: 0.5845 - val_loss: 0.8527 - val_accuracy: 0.5342\n",
      "Epoch 17/30\n",
      "145/145 [==============================] - 2s 13ms/step - loss: 0.7802 - accuracy: 0.5935 - val_loss: 0.8539 - val_accuracy: 0.5822\n",
      "Epoch 18/30\n",
      "145/145 [==============================] - 2s 15ms/step - loss: 0.7555 - accuracy: 0.5921 - val_loss: 0.8351 - val_accuracy: 0.5959\n",
      "Epoch 19/30\n",
      "145/145 [==============================] - 2s 16ms/step - loss: 0.7297 - accuracy: 0.6253 - val_loss: 0.8404 - val_accuracy: 0.5479\n",
      "Epoch 20/30\n",
      "145/145 [==============================] - 3s 18ms/step - loss: 0.7181 - accuracy: 0.6046 - val_loss: 0.8171 - val_accuracy: 0.5616\n",
      "Epoch 21/30\n",
      "145/145 [==============================] - 3s 19ms/step - loss: 0.6859 - accuracy: 0.6529 - val_loss: 0.8267 - val_accuracy: 0.5822\n",
      "Epoch 22/30\n",
      "145/145 [==============================] - 2s 17ms/step - loss: 0.6761 - accuracy: 0.6542 - val_loss: 0.8276 - val_accuracy: 0.6164\n",
      "Epoch 23/30\n",
      "145/145 [==============================] - 2s 13ms/step - loss: 0.6549 - accuracy: 0.6743 - val_loss: 0.8052 - val_accuracy: 0.6027\n",
      "Epoch 24/30\n",
      "145/145 [==============================] - 2s 15ms/step - loss: 0.6397 - accuracy: 0.6825 - val_loss: 0.8100 - val_accuracy: 0.6164\n",
      "Epoch 25/30\n",
      "145/145 [==============================] - 2s 17ms/step - loss: 0.6316 - accuracy: 0.6908 - val_loss: 0.7842 - val_accuracy: 0.6438\n",
      "Epoch 26/30\n",
      "145/145 [==============================] - 2s 14ms/step - loss: 0.6025 - accuracy: 0.7095 - val_loss: 0.7906 - val_accuracy: 0.6301\n",
      "Epoch 27/30\n",
      "145/145 [==============================] - 3s 18ms/step - loss: 0.5807 - accuracy: 0.7391 - val_loss: 0.7864 - val_accuracy: 0.6233\n",
      "Epoch 28/30\n",
      "145/145 [==============================] - 3s 19ms/step - loss: 0.5520 - accuracy: 0.7674 - val_loss: 0.8052 - val_accuracy: 0.6644\n",
      "Epoch 29/30\n",
      "145/145 [==============================] - 2s 15ms/step - loss: 0.5302 - accuracy: 0.7840 - val_loss: 0.7860 - val_accuracy: 0.6233\n",
      "Epoch 30/30\n",
      "145/145 [==============================] - 2s 15ms/step - loss: 0.4839 - accuracy: 0.8144 - val_loss: 0.7559 - val_accuracy: 0.7055\n",
      "Training process execution time : 77.79\n"
     ]
    }
   ],
   "source": [
    "#Define LSTM architechture for imbalanced dataset\n",
    "import time\n",
    "lstm_model_2 = Sequential()\n",
    "lstm_model_2.add(layers.LSTM(units=32, return_sequences=False, input_shape=(X_train_2.shape[1], X_train_2.shape[2]), activation=\"sigmoid\" )) #add first layer for lstm\n",
    "lstm_model_2.add(Dropout(0.2)) #Dropout for regularization\n",
    "#lstm_model_2.add(layers.LSTM(units=32, return_sequences=False, activation=\"tanh\") ) #add second lstm layer\n",
    "#lstm_model_2.add(Dropout(0.2)) #Dropout for regularization\n",
    "lstm_model_2.add(layers.Dense(3, activation='softmax')) #Final layer for multiclass prediction\n",
    "\n",
    "#optimizer = optimizers.SGD(learning_rate=0.001, momentum=0.0, nesterov=False)\n",
    "lstm_model_2.compile(optimizer='adam', loss='categorical_crossentropy', metrics=['accuracy'])\n",
    "start = time.time()\n",
    "lstm_history_2 = lstm_model_2.fit(X_train_2, y_train_2, epochs=30, batch_size=10, validation_data=(X_val_2, y_val_2))\n",
    "end = time.time()\n",
    "print(\"Training process execution time :\", round(end-start,2))"
   ]
  },
  {
   "cell_type": "code",
   "execution_count": 78,
   "metadata": {},
   "outputs": [
    {
     "data": {
      "image/png": "[encoded data removed]",
      "text/plain": [
       "<Figure size 640x480 with 1 Axes>"
      ]
     },
     "metadata": {},
     "output_type": "display_data"
    }
   ],
   "source": [
    "# Plot training and validation loss for imbalanced dataset\n",
    "import matplotlib.pyplot as plt\n",
    "loss = lstm_history_1.history['loss']\n",
    "val_loss = lstm_history_1.history['val_loss']\n",
    "epochs = range(1, len(loss) + 1)\n",
    "plt.figure()\n",
    "plt.plot(epochs, loss, 'bo', label='Training loss')\n",
    "plt.plot(epochs, val_loss, 'b', label='Validation loss')\n",
    "plt.xlabel('Epochs')\n",
    "plt.title('Training and validation loss for imbalanced dataset')\n",
    "plt.legend()\n",
    "plt.show()"
   ]
  },
  {
   "cell_type": "code",
   "execution_count": 79,
   "metadata": {},
   "outputs": [
    {
     "data": {
      "image/png": "[encoded data removed]",
      "text/plain": [
       "<Figure size 640x480 with 1 Axes>"
      ]
     },
     "metadata": {},
     "output_type": "display_data"
    }
   ],
   "source": [
    "# Plot training and validation loss for imbalanced dataset\n",
    "import matplotlib.pyplot as plt\n",
    "loss = lstm_history_2.history['loss']\n",
    "val_loss = lstm_history_2.history['val_loss']\n",
    "epochs = range(1, len(loss) + 1)\n",
    "plt.figure()\n",
    "plt.plot(epochs, loss, 'bo', label='Training loss')\n",
    "plt.plot(epochs, val_loss, 'b', label='Validation loss')\n",
    "plt.xlabel('Epochs')\n",
    "plt.title('Training and validation loss for balanced dataset')\n",
    "plt.legend()\n",
    "plt.show()"
   ]
  },
  {
   "cell_type": "markdown",
   "metadata": {},
   "source": [
    "# Step 5 Evaluation"
   ]
  },
  {
   "cell_type": "code",
   "execution_count": 84,
   "metadata": {},
   "outputs": [
    {
     "name": "stdout",
     "output_type": "stream",
     "text": [
      "19/19 [==============================] - 0s 7ms/step\n",
      "7/7 [==============================] - 0s 10ms/step\n"
     ]
    }
   ],
   "source": [
    "# make predictions\n",
    "y_pred_1 = lstm_model_1.predict(X_test_1)\n",
    "y_pred_2 = lstm_model_2.predict(X_test_2)\n",
    "\n",
    "y_pred_1 = y_pred_1.argmax(axis=1)\n",
    "y_pred_2 = y_pred_2.argmax(axis=1)"
   ]
  },
  {
   "cell_type": "code",
   "execution_count": 87,
   "metadata": {},
   "outputs": [
    {
     "data": {
      "image/png": "[encoded data removed]",
      "text/plain": [
       "<Figure size 640x480 with 2 Axes>"
      ]
     },
     "metadata": {},
     "output_type": "display_data"
    }
   ],
   "source": [
    "#Plot confusion matrix\n",
    "from sklearn.metrics import confusion_matrix, ConfusionMatrixDisplay\n",
    "\n",
    "cm = confusion_matrix(y_test_1.argmax(axis=1), y_pred_1)\n",
    "disp = ConfusionMatrixDisplay(confusion_matrix=cm)\n",
    "disp.plot()\n",
    "plt.title('Imbalanced Dataset')\n",
    "plt.show()"
   ]
  },
  {
   "cell_type": "code",
   "execution_count": 88,
   "metadata": {},
   "outputs": [
    {
     "data": {
      "image/png": "[encoded data removed]",
      "text/plain": [
       "<Figure size 640x480 with 2 Axes>"
      ]
     },
     "metadata": {},
     "output_type": "display_data"
    }
   ],
   "source": [
    "#Plot confusion matrix\n",
    "from sklearn.metrics import confusion_matrix, ConfusionMatrixDisplay\n",
    "\n",
    "cm = confusion_matrix(y_test_2.argmax(axis=1), y_pred_2)\n",
    "disp = ConfusionMatrixDisplay(confusion_matrix=cm)\n",
    "disp.plot()\n",
    "plt.title('balanced Dataset')\n",
    "plt.show()"
   ]
  },
  {
   "cell_type": "code",
   "execution_count": 91,
   "metadata": {},
   "outputs": [
    {
     "name": "stdout",
     "output_type": "stream",
     "text": [
      "Accuracy imbalanced data set : 0.76\n",
      "F1 Score imbalanced data set : [0.81 0.57 0.81]\n",
      "Accuracy balanced data set : 0.75\n",
      "F1 Score balanced data set : [0.81 0.57 0.81]\n"
     ]
    }
   ],
   "source": [
    "from sklearn.metrics import accuracy_score\n",
    "from sklearn.metrics import f1_score\n",
    "\n",
    "\n",
    "print(\"Accuracy imbalanced data set :\",np.round(accuracy_score(y_test_1.argmax(axis=1), y_pred_1), 2))\n",
    "print(\"F1 Score imbalanced data set :\",np.round(f1_score(y_test_2.argmax(axis=1), y_pred_2, average=None), 2))\n",
    "\n",
    "print(\"Accuracy balanced data set :\",np.round(accuracy_score(y_test_2.argmax(axis=1), y_pred_2), 2))\n",
    "print(\"F1 Score balanced data set :\",np.round(f1_score(y_test_2.argmax(axis=1), y_pred_2, average=None), 2))"
   ]
  },
  {
   "cell_type": "code",
   "execution_count": null,
   "metadata": {},
   "outputs": [],
   "source": []
  }
 ],
 "metadata": {
  "kernelspec": {
   "display_name": "dl-venv",
   "language": "python",
   "name": "python3"
  },
  "language_info": {
   "codemirror_mode": {
    "name": "ipython",
    "version": 3
   },
   "file_extension": ".py",
   "mimetype": "text/x-python",
   "name": "python",
   "nbconvert_exporter": "python",
   "pygments_lexer": "ipython3",
   "version": "3.10.8"
  }
 },
 "nbformat": 4,
 "nbformat_minor": 2
}
